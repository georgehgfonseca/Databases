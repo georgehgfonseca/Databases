{
  "nbformat": 4,
  "nbformat_minor": 0,
  "metadata": {
    "colab": {
      "name": "A05_BD_Campeonato.ipynb",
      "provenance": [],
      "collapsed_sections": []
    },
    "kernelspec": {
      "name": "python3",
      "display_name": "Python 3"
    }
  },
  "cells": [
    {
      "cell_type": "markdown",
      "metadata": {
        "id": "e7ivbZslm7x-"
      },
      "source": [
        "# Importação e instalação de pacotes"
      ]
    },
    {
      "cell_type": "code",
      "metadata": {
        "id": "chScIQ2AFWiy",
        "colab": {
          "base_uri": "https://localhost:8080/"
        },
        "outputId": "464757a9-9ef6-40f3-cd27-9505da687088"
      },
      "source": [
        "!pip install mysql\n",
        "!pip install mysql-connector\n",
        "\n",
        "import pandas as pd\n",
        "import mysql.connector"
      ],
      "execution_count": 2,
      "outputs": [
        {
          "output_type": "stream",
          "name": "stdout",
          "text": [
            "Collecting mysql\n",
            "  Downloading mysql-0.0.3-py3-none-any.whl (1.2 kB)\n",
            "Collecting mysqlclient\n",
            "  Downloading mysqlclient-2.0.3.tar.gz (88 kB)\n",
            "\u001b[?25l\r\u001b[K     |███▊                            | 10 kB 36.6 MB/s eta 0:00:01\r\u001b[K     |███████▍                        | 20 kB 39.4 MB/s eta 0:00:01\r\u001b[K     |███████████                     | 30 kB 38.4 MB/s eta 0:00:01\r\u001b[K     |██████████████▊                 | 40 kB 38.1 MB/s eta 0:00:01\r\u001b[K     |██████████████████▍             | 51 kB 40.2 MB/s eta 0:00:01\r\u001b[K     |██████████████████████▏         | 61 kB 43.6 MB/s eta 0:00:01\r\u001b[K     |█████████████████████████▉      | 71 kB 42.2 MB/s eta 0:00:01\r\u001b[K     |█████████████████████████████▌  | 81 kB 43.7 MB/s eta 0:00:01\r\u001b[K     |████████████████████████████████| 88 kB 9.3 MB/s \n",
            "\u001b[?25hBuilding wheels for collected packages: mysqlclient\n",
            "  Building wheel for mysqlclient (setup.py) ... \u001b[?25l\u001b[?25hdone\n",
            "  Created wheel for mysqlclient: filename=mysqlclient-2.0.3-cp37-cp37m-linux_x86_64.whl size=100138 sha256=8111c256aad56ec7db0ea55f4f9cef012ae60b0de2a5e6639b656f8a7f4680af\n",
            "  Stored in directory: /root/.cache/pip/wheels/79/1c/f8/11fafab45fe6696eea63794a5d747b9c6b54990ac6f1885fb7\n",
            "Successfully built mysqlclient\n",
            "Installing collected packages: mysqlclient, mysql\n",
            "Successfully installed mysql-0.0.3 mysqlclient-2.0.3\n",
            "Collecting mysql-connector\n",
            "  Downloading mysql-connector-2.2.9.tar.gz (11.9 MB)\n",
            "\u001b[K     |████████████████████████████████| 11.9 MB 33.5 MB/s \n",
            "\u001b[?25hBuilding wheels for collected packages: mysql-connector\n",
            "  Building wheel for mysql-connector (setup.py) ... \u001b[?25l\u001b[?25hdone\n",
            "  Created wheel for mysql-connector: filename=mysql_connector-2.2.9-cp37-cp37m-linux_x86_64.whl size=247965 sha256=c21a0470c3082a70ff5151e6f99bdec1924e7b2b6fd585fbff0285df195d173b\n",
            "  Stored in directory: /root/.cache/pip/wheels/42/2f/c3/692fc7fc1f0d8c06b9175d94f0fc30f4f92348f5df5af1b8b7\n",
            "Successfully built mysql-connector\n",
            "Installing collected packages: mysql-connector\n",
            "Successfully installed mysql-connector-2.2.9\n"
          ]
        }
      ]
    },
    {
      "cell_type": "markdown",
      "metadata": {
        "id": "3GZWj5lYnM_v"
      },
      "source": [
        "# Conexão com o banco de dados (Google Cloud)"
      ]
    },
    {
      "cell_type": "code",
      "metadata": {
        "id": "YwU-usjRCa_b",
        "colab": {
          "base_uri": "https://localhost:8080/"
        },
        "outputId": "ddac4a29-be69-4b2a-cf10-e1d6aaad0bba"
      },
      "source": [
        "db= mysql.connector.connect(host=\"35.188.71.153\",user=\"root\", passwd=\"12345678\",db=\"CAMPEONATO\")\n",
        "#db= mysql.connector.connect(host=\"35.239.50.225\",user=\"root\", passwd=\"12345678\",db=\"campeonato\")\n",
        "cursor = db.cursor()\n",
        "\n",
        "print(\"Conectado com sucesso!\")"
      ],
      "execution_count": 3,
      "outputs": [
        {
          "output_type": "stream",
          "name": "stdout",
          "text": [
            "Conectado com sucesso!\n"
          ]
        }
      ]
    },
    {
      "cell_type": "markdown",
      "metadata": {
        "id": "kSBEnY6-nVnf"
      },
      "source": [
        "# Exibição dos metadados do BD"
      ]
    },
    {
      "cell_type": "code",
      "metadata": {
        "id": "_9k0zIi5oA4V"
      },
      "source": [
        "#Exibir as tabelas do banco de dados\n",
        "print(\"BD CAMPEONATO\") \n",
        "cursor.execute(\"show tables;\");\n",
        "for i in cursor:\n",
        "    print(i)\n",
        "\n",
        "print(\"\\nTabela EQUIPE\") \n",
        "cursor.execute(\"describe EQUIPE;\");\n",
        "for i in cursor:\n",
        "    print(i)\n",
        "\n",
        "print(\"\\nTabela PARTIDA\") \n",
        "cursor.execute(\"describe PARTIDA;\");\n",
        "for i in cursor:\n",
        "    print(i)\n",
        "\n",
        "print(\"\\nTabela JOGADOR\") \n",
        "cursor.execute(\"describe JOGADOR;\");\n",
        "for i in cursor:\n",
        "    print(i)\n",
        "\n",
        "print(\"\\nTabela POSICAO\") \n",
        "cursor.execute(\"describe POSICAO;\");\n",
        "for i in cursor:\n",
        "    print(i)\n",
        "\n",
        "print(\"\\nTabela JOGA\") \n",
        "cursor.execute(\"describe JOGA;\");\n",
        "for i in cursor:\n",
        "    print(i)"
      ],
      "execution_count": null,
      "outputs": []
    },
    {
      "cell_type": "markdown",
      "metadata": {
        "id": "m82QV3zgn5vd"
      },
      "source": [
        "# Consultas SQL simples"
      ]
    },
    {
      "cell_type": "code",
      "metadata": {
        "id": "nG418VW2o8sf"
      },
      "source": [
        "#Exibir os dados de todas as equipes\n",
        "print(\"EQUIPES:\") \n",
        "cursor.execute(\n",
        "    \"\"\"SELECT * \n",
        "       FROM EQUIPE;\"\"\");\n",
        "for i in cursor:\n",
        "    print(i)\n",
        "\n",
        "#Exibir os dados dos jogadores da equipe 'America F. C.'\n",
        "print(\"\\nJOGADORES do America F. C.:\") \n",
        "cursor.execute(\n",
        "    \"\"\"SELECT J.CPF, J.Nome, J.DataNascimento, J.Salario\n",
        "       FROM   EQUIPE AS E, JOGADOR AS J\n",
        "       WHERE   J.ECodigo = E.Codigo AND E.Nome = \"America F. C.\";\"\"\");\n",
        "for i in cursor:\n",
        "    print(i)"
      ],
      "execution_count": null,
      "outputs": []
    },
    {
      "cell_type": "markdown",
      "metadata": {
        "id": "aA9CLNyLo17Y"
      },
      "source": [
        "# Consultas SQL simples com Pandas"
      ]
    },
    {
      "cell_type": "code",
      "metadata": {
        "id": "HjxmWlM2pArf"
      },
      "source": [
        "#Exibir os dados de todas as equipes com Pandas\n",
        "print(\"EQUIPES:\") \n",
        "SQL_Query = pd.read_sql_query(\n",
        "    \"\"\"SELECT * \n",
        "       FROM EQUIPE;\"\"\", db)\n",
        "df = pd.DataFrame(SQL_Query, columns=['Codigo','Nome'])\n",
        "print(df)\n",
        "\n",
        "#Exibir os dados dos jogadores da equipe 'America F. C.'\n",
        "print(\"\\nJOGADORES do America F. C.:\") \n",
        "SQL_Query = pd.read_sql_query(\n",
        "    \"\"\"SELECT J.CPF, J.Nome, J.DataNascimento, J.Salario\n",
        "       FROM   EQUIPE AS E, JOGADOR AS J\n",
        "       WHERE   J.ECodigo = E.Codigo AND E.Nome = \"America F. C.\";\"\"\", db);\n",
        "df = pd.DataFrame(SQL_Query)\n",
        "print(df)"
      ],
      "execution_count": null,
      "outputs": []
    },
    {
      "cell_type": "markdown",
      "metadata": {
        "id": "SygLeA74dEhN"
      },
      "source": [
        "# Operações com Pandas DataFrame"
      ]
    },
    {
      "cell_type": "code",
      "metadata": {
        "id": "FupKnTlxdIIL"
      },
      "source": [
        "#Imprime o nome do jogador da posição 0 (via nome da coluna)\n",
        "print(df.loc[0,'Nome'])\n",
        "\n",
        "#Imprime o nome do jogador da posição 0 (via índice da coluna)\n",
        "print(df.iloc[0,1])\n",
        "\n",
        "#Alterando o salário do jogador da posição 0 para 100.000\n",
        "df.loc[0,'Salario'] = 100000.00\n",
        "\n",
        "#Converte DataFrame para list (matriz)\n",
        "matriz = df.values.tolist()\n",
        "print(matriz)\n",
        "\n",
        "#Converte list (matriz) para DataFrame\n",
        "df = pd.DataFrame(matriz,columns=['CPF', 'Nome', 'DataNascimento', 'Salario'])\n",
        "print(df)\n",
        "\n",
        "#Cria arquivo .csv a partir de um DataFrame\n",
        "df.to_csv(r'Jogadores_America.csv', index = False)"
      ],
      "execution_count": null,
      "outputs": []
    },
    {
      "cell_type": "markdown",
      "metadata": {
        "id": "UNjQixT5pNKp"
      },
      "source": [
        "# Consultas SQL dos exercícios"
      ]
    },
    {
      "cell_type": "markdown",
      "metadata": {
        "id": "k9NNMjvApFT3"
      },
      "source": [
        "1. Adicionar a equipe 'Porto F. C.', de código 1053 à tabela EQUIPE com 0 vitórias, 0 derrotas e 0 empates."
      ]
    },
    {
      "cell_type": "code",
      "metadata": {
        "id": "ad3dw1ULpDcP"
      },
      "source": [
        "cursor.execute(\n",
        "    \"\"\"DELETE FROM EQUIPE\n",
        "       WHERE Codigo=1053;\"\"\");\n",
        "\n",
        "cursor.execute(\n",
        "    \"\"\"INSERT INTO EQUIPE VALUES\n",
        "       (\"Porto F. C.\", 1053, 0, 0, 0);\"\"\");"
      ],
      "execution_count": null,
      "outputs": []
    },
    {
      "cell_type": "markdown",
      "metadata": {
        "id": "vyRQwDelnlSz"
      },
      "source": [
        "2. Adicionar a posição 'Lateral direito' ao jogador de CPF '1098068753'."
      ]
    },
    {
      "cell_type": "code",
      "metadata": {
        "id": "HBmXkgfOnm0K"
      },
      "source": [
        "# A fazer\n",
        "cursor.execute(\n",
        "    \"\"\"DELETE FROM POSICAO\n",
        "       WHERE JCPF=1098068753 AND Posicao=\"Lateral direito\";\"\"\");\n",
        "\n",
        "cursor.execute(\n",
        "    \"\"\"INSERT INTO POSICAO VALUES\n",
        "       (\"Lateral direito\", 1098068753);\"\"\");"
      ],
      "execution_count": null,
      "outputs": []
    },
    {
      "cell_type": "markdown",
      "metadata": {
        "id": "sJEG_cFwm7z6"
      },
      "source": [
        "3. Exibir o código, o nome e o número de vitórias dos times com mais que 5 vitórias."
      ]
    },
    {
      "cell_type": "code",
      "metadata": {
        "id": "yvEp5qRZnCmC"
      },
      "source": [
        "# A fazer\n",
        "cursor.execute(\n",
        "    \"\"\"SELECT  E.Codigo, E.Nome, E.Vitorias\n",
        "       FROM    EQUIPE AS E\n",
        "       WHERE   E.Vitorias > 5;\"\"\");\n",
        "\n",
        "for i in cursor:\n",
        "    print(i)"
      ],
      "execution_count": null,
      "outputs": []
    },
    {
      "cell_type": "markdown",
      "metadata": {
        "id": "-6SSy1korC3l"
      },
      "source": [
        "4. Recuperar os jogadores nascidos na década de 90."
      ]
    },
    {
      "cell_type": "code",
      "metadata": {
        "id": "Ww4OKyt2rGN2"
      },
      "source": [
        "# A fazer\n",
        "cursor.execute(\n",
        "    \"\"\"SELECT  J.CPF\n",
        "       FROM    JOGADOR AS J\n",
        "       WHERE   J.DataNascimento LIKE \"199_______\";\"\"\");\n",
        "\n",
        "for i in cursor:\n",
        "    print(i)"
      ],
      "execution_count": null,
      "outputs": []
    },
    {
      "cell_type": "markdown",
      "metadata": {
        "id": "OE63_hayreuZ"
      },
      "source": [
        "5. Recuperar o nome dos jogadores que atuam pela equipe 'Real F. C.'"
      ]
    },
    {
      "cell_type": "code",
      "metadata": {
        "id": "l1V5nTSJri31"
      },
      "source": [
        "# A fazer\n",
        "cursor.execute(\n",
        "    \"\"\"SELECT  J.Nome\n",
        "       FROM    JOGADOR AS J, EQUIPE AS E\n",
        "       WHERE   J.ECodigo = E.Codigo AND E.Nome = 'Real F. C.';\"\"\");\n",
        "\n",
        "for i in cursor:\n",
        "    print(i)"
      ],
      "execution_count": null,
      "outputs": []
    },
    {
      "cell_type": "markdown",
      "metadata": {
        "id": "cjb0OtEXsD0G"
      },
      "source": [
        "6. Recuperar o nome e o CPF de todos os jogadores que atuam na posição 'Goleiro'."
      ]
    },
    {
      "cell_type": "code",
      "metadata": {
        "id": "Sjw1XUNFsIin"
      },
      "source": [
        "# A fazer\n",
        "cursor.execute(\n",
        "    \"\"\"SELECT  J.Nome, J.CPF\n",
        "       FROM    JOGADOR AS J, POSICAO AS P\n",
        "      WHERE    J.CPF = P.JCPF AND P.Posicao LIKE '%Goleiro%';\"\"\");\n",
        "\n",
        "for i in cursor:\n",
        "    print(i)"
      ],
      "execution_count": null,
      "outputs": []
    },
    {
      "cell_type": "markdown",
      "metadata": {
        "id": "Iul7WJuTsUhx"
      },
      "source": [
        "7. Recuperar os dados do jogador que mais fez gols no campeonato (artilheiro)."
      ]
    },
    {
      "cell_type": "code",
      "metadata": {
        "id": "8bzH1YFNsYX4"
      },
      "source": [
        "# A fazer\n",
        "cursor.execute(\"\"\"\n",
        "SELECT    J.CPF, J.Nome, SUM(JG.Gols) AS Gols\n",
        "FROM      JOGADOR AS J, JOGA AS JG\n",
        "WHERE     J.CPF=JG.JCPF\n",
        "GROUP BY  J.CPF, J.Nome\n",
        "ORDER BY  Gols DESC\n",
        "LIMIT     1;\"\"\");\n",
        "\n",
        "for i in cursor:\n",
        "    print(i)"
      ],
      "execution_count": null,
      "outputs": []
    },
    {
      "cell_type": "markdown",
      "metadata": {
        "id": "9C8xtCXJsu1p"
      },
      "source": [
        "8. Recuperar os times ordenados decrescentemente pelo número de vitórias, e pelo número de empates caso o número de vitórias seja igual."
      ]
    },
    {
      "cell_type": "code",
      "metadata": {
        "id": "Pt6iqERSs2Zs"
      },
      "source": [
        "# A fazer\n",
        "cursor.execute(\"\"\"\n",
        "SELECT    E.Nome, E.Vitorias\n",
        "FROM      EQUIPE AS E\n",
        "ORDER BY  E.Vitorias DESC, E.Empates DESC;\"\"\");\n",
        "\n",
        "for i in cursor:\n",
        "    print(i)"
      ],
      "execution_count": null,
      "outputs": []
    },
    {
      "cell_type": "markdown",
      "metadata": {
        "id": "2gsKWFs1vec2"
      },
      "source": [
        "9. Recuperar o número de gols marcados e o número de gols sofridos pela equipe 'Sport F. C.'."
      ]
    },
    {
      "cell_type": "code",
      "metadata": {
        "id": "AlfIkrVAvhDE"
      },
      "source": [
        "print(\"Gols marcados\")\n",
        "cursor.execute(\"\"\"\n",
        "(SELECT   E.Nome, SUM(MGols)\n",
        "FROM      EQUIPE AS E, PARTIDA AS P\n",
        "WHERE     E.Codigo=MECodigo AND E.Nome LIKE \"%Sport%\"\n",
        "GROUP BY  E.Nome)\n",
        "UNION\n",
        "(SELECT   E.Nome, SUM(VGols)\n",
        "FROM      EQUIPE AS E, PARTIDA AS P\n",
        "WHERE     E.Codigo=VECodigo AND E.Nome LIKE \"%Sport%\"\n",
        "GROUP BY  E.Nome);\"\"\");\n",
        "\n",
        "for i in cursor:\n",
        "    print(i)\n",
        "\n",
        "print(\"Gols sofridos\")\n",
        "cursor.execute(\"\"\"\n",
        "(SELECT   E.Nome, SUM(VGols)\n",
        "FROM      EQUIPE AS E, PARTIDA AS P\n",
        "WHERE     E.Codigo=MECodigo AND E.Nome LIKE \"%Sport%\"\n",
        "GROUP BY  E.Nome)\n",
        "UNION\n",
        "(SELECT   E.Nome, SUM(MGols)\n",
        "FROM      EQUIPE AS E, PARTIDA AS P\n",
        "WHERE     E.Codigo=VECodigo AND E.Nome LIKE \"%Sport%\"\n",
        "GROUP BY  E.Nome);\"\"\");\n",
        "\n",
        "for i in cursor:\n",
        "    print(i)"
      ],
      "execution_count": null,
      "outputs": []
    },
    {
      "cell_type": "markdown",
      "metadata": {
        "id": "wA_20j9XzQqR"
      },
      "source": [
        "10. Recuperar a equipe que tem o maior número de derrotas."
      ]
    },
    {
      "cell_type": "code",
      "metadata": {
        "id": "zkQf3_N-zQQ2"
      },
      "source": [
        "cursor.execute(\"\"\"\n",
        "SELECT    E.Nome, E.Derrotas\n",
        "FROM      EQUIPE AS E\n",
        "ORDER BY  E.Derrotas DESC\n",
        "LIMIT     1;\"\"\");\n",
        "\n",
        "for i in cursor:\n",
        "    print(i)"
      ],
      "execution_count": null,
      "outputs": []
    },
    {
      "cell_type": "markdown",
      "metadata": {
        "id": "Io12YrA11J8l"
      },
      "source": [
        "11. Recuperar a média dos salários dos jogadores da equipe 'River F. C.'"
      ]
    },
    {
      "cell_type": "code",
      "metadata": {
        "id": "Ex3PDg8I1LaW"
      },
      "source": [
        "cursor.execute(\"\"\"\n",
        "SELECT   E.Nome, AVG(J.Salario)\n",
        "FROM     EQUIPE AS E, JOGADOR AS J\n",
        "WHERE    E.Codigo=J.ECodigo AND E.Nome LIKE \"%River%\"\n",
        "GROUP BY E.Nome;\"\"\");\n",
        "\n",
        "for i in cursor:\n",
        "    print(i)"
      ],
      "execution_count": null,
      "outputs": []
    },
    {
      "cell_type": "markdown",
      "metadata": {
        "id": "0muqHYJL13F5"
      },
      "source": [
        "12. Recuperar o nome dos jogadores que atuaram pela equipe 'America F. C.' na rodada número 3."
      ]
    },
    {
      "cell_type": "code",
      "metadata": {
        "id": "89j8-Hhc15t0"
      },
      "source": [
        "cursor.execute(\"\"\"\n",
        "SELECT  J.Nome, P.Codigo, E.Nome\n",
        "FROM    JOGADOR AS J, EQUIPE AS E, JOGA AS JG, PARTIDA AS P\n",
        "WHERE   J.CPF=JG.JCPF AND \n",
        "        P.Codigo=JG.PCodigo AND \n",
        "        E.Codigo=J.ECodigo AND \n",
        "        E.Nome LIKE \"%America%\" AND \n",
        "        P.Rodada = 3;\"\"\");\n",
        "\n",
        "for i in cursor:\n",
        "    print(i)"
      ],
      "execution_count": null,
      "outputs": []
    },
    {
      "cell_type": "markdown",
      "metadata": {
        "id": "e0bTYunr3Nsr"
      },
      "source": [
        "13. Recuperar o nome das equipes que venceram na rodada 7."
      ]
    },
    {
      "cell_type": "code",
      "metadata": {
        "id": "3qSWMymw3Qf6"
      },
      "source": [
        "cursor.execute(\"\"\"\n",
        "SELECT   E.Nome\n",
        "FROM     EQUIPE AS E, PARTIDA AS P\n",
        "WHERE    ((P.MECodigo = E.Codigo AND P.MGols > P.VGols) OR (P.VECodigo = E.Codigo AND P.VGols > P.MGols)) AND P.Rodada = 7;\"\"\");\n",
        "\n",
        "for i in cursor:\n",
        "    print(i)"
      ],
      "execution_count": null,
      "outputs": []
    },
    {
      "cell_type": "markdown",
      "metadata": {
        "id": "NAddA-DN3ukC"
      },
      "source": [
        "14. Recuperar as equipes ordenadas decrescentemente pela média do público dos jogos em que foi mandante."
      ]
    },
    {
      "cell_type": "code",
      "metadata": {
        "id": "W6BuSuFc3yy0"
      },
      "source": [
        "cursor.execute(\n",
        "    \"\"\"SELECT   E.Nome, AVG(P.Publico)\n",
        "       FROM     EQUIPE AS E, PARTIDA AS P\n",
        "       WHERE    P.MECodigo = E.Codigo\n",
        "       GROUP BY E.Nome\n",
        "       ORDER BY AVG(P.Publico) DESC;\"\"\");\n",
        "\n",
        "for i in cursor:\n",
        "    print(i)"
      ],
      "execution_count": null,
      "outputs": []
    },
    {
      "cell_type": "markdown",
      "metadata": {
        "id": "aou18m0Gmzor"
      },
      "source": [
        "15. Recuperar o número de cartões obtidos pela equipe 'Real F. C.' durante o campeonato."
      ]
    },
    {
      "cell_type": "code",
      "metadata": {
        "id": "y5TC-BFnm3jM"
      },
      "source": [
        "cursor.execute(\n",
        "    \"\"\"SELECT  E.Nome, SUM(JG.CartoesAmarelos) + SUM(JG.CartaoVermelho) \n",
        "     FROM      EQUIPE AS E, PARTIDA AS P, JOGADOR AS J, JOGA AS JG\n",
        "     WHERE     (E.Codigo=P.MECodigo OR E.Codigo=P.VECodigo) AND\n",
        "                J.ECodigo=E.Codigo AND\n",
        "                J.CPF=JG.JCPF AND JG.PCodigo=P.Codigo AND\n",
        "                E.Nome='Real F. C.';\"\"\");\n",
        "\n",
        "for i in cursor:\n",
        "    print(i)"
      ],
      "execution_count": null,
      "outputs": []
    },
    {
      "cell_type": "markdown",
      "metadata": {
        "id": "UR_i_omMAm8I"
      },
      "source": [
        "16. Recuperar as equipes ordenadas decrescentemente pela média salarial de seus jogadores."
      ]
    },
    {
      "cell_type": "code",
      "metadata": {
        "id": "ZeeCWIHMUURW"
      },
      "source": [
        "cursor.execute(\"\"\"\n",
        "SELECT    E.Nome, ROUND(AVG(J.Salario), 2) \n",
        "FROM      EQUIPE AS E, JOGADOR AS J\n",
        "WHERE     J.ECodigo=E.Codigo\n",
        "GROUP BY  E.Nome\n",
        "ORDER BY  AVG(J.Salario) DESC;\"\"\");\n",
        "\n",
        "for i in cursor:\n",
        "    print(i)"
      ],
      "execution_count": null,
      "outputs": []
    },
    {
      "cell_type": "markdown",
      "metadata": {
        "id": "Oyk5XeXuWp0e"
      },
      "source": [
        "17. Recuperar a equipe que mais perdeu como mandante."
      ]
    },
    {
      "cell_type": "code",
      "metadata": {
        "id": "AuaGX9e0Wvjr"
      },
      "source": [
        "cursor.execute(\"\"\"\n",
        "SELECT    E.Nome, COUNT(*) \n",
        "FROM      EQUIPE AS E, PARTIDA AS P\n",
        "WHERE     E.Codigo=P.MECodigo AND P.MGols < P.VGols\n",
        "GROUP BY  E.Nome\n",
        "ORDER BY  COUNT(*) DESC\n",
        "LIMIT     1;\"\"\");\n",
        "\n",
        "for i in cursor:\n",
        "    print(i)"
      ],
      "execution_count": null,
      "outputs": []
    },
    {
      "cell_type": "markdown",
      "metadata": {
        "id": "Lya1nbRpU1xx"
      },
      "source": [
        "18. Atualizar o número de vitórias da equipe 'Porto F. C.' para 1."
      ]
    },
    {
      "cell_type": "code",
      "metadata": {
        "id": "dWMjtcGEU7-w"
      },
      "source": [
        "cursor.execute(\n",
        "    \"\"\"UPDATE    EQUIPE\n",
        "       SET       Vitorias=Vitorias+1\n",
        "       WHERE     Nome='Porto F. C.';\"\"\");"
      ],
      "execution_count": null,
      "outputs": []
    },
    {
      "cell_type": "markdown",
      "metadata": {
        "id": "Pvdqi6MbVR_3"
      },
      "source": [
        "19. Atualizar o número de gols marcados pelo jogador de CPF '1493017907' na partida código '181' para 2."
      ]
    },
    {
      "cell_type": "code",
      "metadata": {
        "id": "H4eaiMiIVVW5"
      },
      "source": [
        "cursor.execute(\n",
        "    \"\"\"UPDATE    JOGA\n",
        "       SET       Gols=2\n",
        "       WHERE     JCPF = 1493017907 AND PCodigo = 181;\"\"\");"
      ],
      "execution_count": null,
      "outputs": []
    },
    {
      "cell_type": "markdown",
      "metadata": {
        "id": "5s5Ml69yX9ab"
      },
      "source": [
        "20. (DESAFIO) Recuperar o nome da equipe que mais perdeu para a equipe 'Independente F. C.' e o número de derrotas registradas."
      ]
    },
    {
      "cell_type": "code",
      "metadata": {
        "id": "rtbd_Y4QYCpL"
      },
      "source": [
        "cursor.execute(\"\"\"\n",
        "SELECT    E.Nome, COUNT(*) \n",
        "FROM      EQUIPE AS E, PARTIDA AS P, EQUIPE AS E2\n",
        "WHERE     (E.Codigo=P.MECodigo AND P.MGols < P.VGols AND P.VECodigo=E2.Codigo AND E2.Nome='Independente F. C.')\n",
        "          OR\n",
        "          (E.Codigo=P.VECodigo AND P.VGols < P.MGols AND P.MECodigo=E2.Codigo AND E2.Nome='Independente F. C.')\n",
        "GROUP BY  E.Nome\n",
        "ORDER BY  COUNT(*) DESC\n",
        "LIMIT     1;\"\"\");\n",
        "\n",
        "for i in cursor:\n",
        "    print(i)"
      ],
      "execution_count": null,
      "outputs": []
    },
    {
      "cell_type": "markdown",
      "metadata": {
        "id": "a7JhjeJBYreq"
      },
      "source": [
        "21. (DESAFIO) Calcular a pontuação de cada equipe (3 pontos para cada vitória e 1 para cada empate) sem usar os atributos Vitorias, Empates e Derrotas e exibir as equipes em ordem decrescente de pontuação, junto a seu número de vitórias, empates e derrotas."
      ]
    },
    {
      "cell_type": "code",
      "metadata": {
        "id": "AbYc0UmmYy8o"
      },
      "source": [
        "cursor.execute(\"\"\"\n",
        "SELECT E.Nome,\n",
        "    (SELECT COUNT(*) FROM EQUIPE AS E2, PARTIDA AS P WHERE (((E2.Codigo=P.MECodigo AND P.MGols > P.VGols) OR (E2.Codigo=P.VECodigo AND P.VGols > P.MGols)) AND E2.Nome = E.Nome)) as Vitorias,\n",
        "    (SELECT COUNT(*) FROM EQUIPE AS E2, PARTIDA AS P WHERE (((E2.Codigo=P.MECodigo AND P.MGols = P.VGols) OR (E2.Codigo=P.VECodigo AND P.VGols = P.MGols)) AND E2.Nome = E.Nome)) as Empates,\n",
        "    (SELECT COUNT(*) FROM EQUIPE AS E2, PARTIDA AS P WHERE (((E2.Codigo=P.MECodigo AND P.MGols < P.VGols) OR (E2.Codigo=P.VECodigo AND P.VGols < P.MGols)) AND E2.Nome = E.Nome)) as Derrotas,\n",
        "    (SELECT COUNT(*) * 3 FROM EQUIPE AS E2, PARTIDA AS P WHERE (((E2.Codigo=P.MECodigo AND P.MGols > P.VGols) OR (E2.Codigo=P.VECodigo AND P.VGols > P.MGols)) AND E2.Nome = E.Nome)) +\n",
        "    (SELECT COUNT(*) FROM EQUIPE AS E2, PARTIDA AS P WHERE (((E2.Codigo=P.MECodigo AND P.MGols = P.VGols) OR (E2.Codigo=P.VECodigo AND P.VGols = P.MGols)) AND E2.Nome = E.Nome)) as Pontos\n",
        "FROM (SELECT Nome FROM EQUIPE) AS E\n",
        "ORDER BY Pontos DESC, Vitorias DESC;\"\"\", db);\n",
        "\n",
        "for i in cursor:\n",
        "    print(i)"
      ],
      "execution_count": null,
      "outputs": []
    },
    {
      "cell_type": "markdown",
      "metadata": {
        "id": "2TLBdmUxXnjv"
      },
      "source": [
        "# Manipulação de Arquivos .csv"
      ]
    },
    {
      "cell_type": "markdown",
      "metadata": {
        "id": "2F6Mh1WEedKO"
      },
      "source": [
        "1. Leitura de dados .csv"
      ]
    },
    {
      "cell_type": "code",
      "metadata": {
        "id": "PL5Vn3JzXrqd"
      },
      "source": [
        "#Lê dados de um arquivo .csv local\n",
        "df = pd.read_csv(\"Jogadores_America.csv\")\n",
        "\n",
        "#Lê dados de um arquivo .csv da Web\n",
        "df = pd.read_csv(\"http://professor.ufop.br/sites/default/files/george/files/jogadores_america.csv\")\n",
        "print(\"Jogadores:\")\n",
        "print(df)\n",
        "\n"
      ],
      "execution_count": null,
      "outputs": []
    },
    {
      "cell_type": "markdown",
      "metadata": {
        "id": "pv2Zwdk1eg4r"
      },
      "source": [
        "2. Adição de coluna a um DataFrame"
      ]
    },
    {
      "cell_type": "code",
      "metadata": {
        "id": "YS32IVi7emm3"
      },
      "source": [
        "#Adiciona a coluna Status ao DataFrame df\n",
        "status = [\"Disponivel\",\n",
        "          \"Lesionado\",\n",
        "          \"Disponivel\",\n",
        "          \"Disponivel\",\n",
        "          \"Suspenso\",\n",
        "          \"Disponivel\",\n",
        "          \"Disponivel\",\n",
        "          \"Disponivel\",\n",
        "          \"Disponivel\",\n",
        "          \"Lesionado\",\n",
        "          \"Disponivel\",\n",
        "          \"Disponivel\",\n",
        "          \"Suspenso\",\n",
        "          \"Disponivel\",\n",
        "          \"Disponivel\",\n",
        "          \"Disponivel\"]\n",
        "df[\"Status\"] = status\n",
        "print(\"\\nJogadores com Status:\")\n",
        "print(df)"
      ],
      "execution_count": null,
      "outputs": []
    },
    {
      "cell_type": "markdown",
      "metadata": {
        "id": "ga6OCG3teowh"
      },
      "source": [
        "3. Imprime apenas a coluna \"Salario\" do DataFrame"
      ]
    },
    {
      "cell_type": "code",
      "metadata": {
        "id": "ryfn0MP7etqH"
      },
      "source": [
        "print(df[\"Salario\"])"
      ],
      "execution_count": null,
      "outputs": []
    },
    {
      "cell_type": "markdown",
      "metadata": {
        "id": "pQPeYoave_A2"
      },
      "source": [
        "4. Escreve os dados alterados em Jogadores_America_Update.csv"
      ]
    },
    {
      "cell_type": "code",
      "metadata": {
        "id": "TaqELOMRfMM5"
      },
      "source": [
        "df.to_csv(r'Jogadores_America_Update.csv', index = False)"
      ],
      "execution_count": null,
      "outputs": []
    }
  ]
}