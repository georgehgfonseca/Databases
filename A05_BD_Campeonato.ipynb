{
  "nbformat": 4,
  "nbformat_minor": 0,
  "metadata": {
    "colab": {
      "name": "A05_BD_Campeonato.ipynb",
      "provenance": [],
      "collapsed_sections": [],
      "toc_visible": true
    },
    "kernelspec": {
      "name": "python3",
      "display_name": "Python 3"
    }
  },
  "cells": [
    {
      "cell_type": "markdown",
      "metadata": {
        "id": "e7ivbZslm7x-"
      },
      "source": [
        "# Importação e instalação de pacotes"
      ]
    },
    {
      "cell_type": "code",
      "metadata": {
        "id": "chScIQ2AFWiy"
      },
      "source": [
        "!pip install mysql\n",
        "!pip install mysql-connector\n",
        "\n",
        "import pandas as pd\n",
        "import mysql.connector"
      ],
      "execution_count": null,
      "outputs": []
    },
    {
      "cell_type": "markdown",
      "metadata": {
        "id": "3GZWj5lYnM_v"
      },
      "source": [
        "# Conexão com o banco de dados (Google Cloud)"
      ]
    },
    {
      "cell_type": "code",
      "metadata": {
        "id": "YwU-usjRCa_b"
      },
      "source": [
        "#db= mysql.connector.connect(host=\"35.198.30.132\",user=\"cdd003\", passwd=\"12345678\",db=\"campeonato\")\n",
        "db= mysql.connector.connect(host=\"35.239.50.225\",user=\"root\", passwd=\"12345678\",db=\"campeonato\")\n",
        "cursor = db.cursor()\n",
        "\n",
        "print(\"Conectado com sucesso!\")"
      ],
      "execution_count": null,
      "outputs": []
    },
    {
      "cell_type": "markdown",
      "metadata": {
        "id": "kSBEnY6-nVnf"
      },
      "source": [
        "# Exibição dos metadados do BD"
      ]
    },
    {
      "cell_type": "code",
      "metadata": {
        "id": "_9k0zIi5oA4V"
      },
      "source": [
        "#Exibir as tabelas do banco de dados\n",
        "print(\"BD CAMPEONATO\") \n",
        "cursor.execute(\"show tables;\");\n",
        "for i in cursor:\n",
        "    print(i)\n",
        "\n",
        "print(\"\\nTabela EQUIPE\") \n",
        "cursor.execute(\"describe EQUIPE;\");\n",
        "for i in cursor:\n",
        "    print(i)\n",
        "\n",
        "print(\"\\nTabela PARTIDA\") \n",
        "cursor.execute(\"describe PARTIDA;\");\n",
        "for i in cursor:\n",
        "    print(i)\n",
        "\n",
        "print(\"\\nTabela JOGADOR\") \n",
        "cursor.execute(\"describe JOGADOR;\");\n",
        "for i in cursor:\n",
        "    print(i)\n",
        "\n",
        "print(\"\\nTabela POSICAO\") \n",
        "cursor.execute(\"describe POSICAO;\");\n",
        "for i in cursor:\n",
        "    print(i)\n",
        "\n",
        "print(\"\\nTabela JOGA\") \n",
        "cursor.execute(\"describe JOGA;\");\n",
        "for i in cursor:\n",
        "    print(i)"
      ],
      "execution_count": null,
      "outputs": []
    },
    {
      "cell_type": "markdown",
      "metadata": {
        "id": "m82QV3zgn5vd"
      },
      "source": [
        "# Consultas SQL simples"
      ]
    },
    {
      "cell_type": "code",
      "metadata": {
        "id": "nG418VW2o8sf"
      },
      "source": [
        "#Exibir os dados de todas as equipes\n",
        "print(\"EQUIPES:\") \n",
        "cursor.execute(\n",
        "    \"\"\"SELECT * \n",
        "       FROM EQUIPE;\"\"\");\n",
        "for i in cursor:\n",
        "    print(i)\n",
        "\n",
        "#Exibir os dados dos jogadores da equipe 'America F. C.'\n",
        "print(\"\\nJOGADORES do America F. C.:\") \n",
        "cursor.execute(\n",
        "    \"\"\"SELECT J.CPF, J.Nome, J.DataNascimento, J.Salario\n",
        "       FROM   EQUIPE AS E, JOGADOR AS J\n",
        "       WHERE   J.ECodigo = E.Codigo AND E.Nome = \"America F. C.\";\"\"\");\n",
        "for i in cursor:\n",
        "    print(i)"
      ],
      "execution_count": null,
      "outputs": []
    },
    {
      "cell_type": "markdown",
      "metadata": {
        "id": "aA9CLNyLo17Y"
      },
      "source": [
        "# Consultas SQL simples com Pandas"
      ]
    },
    {
      "cell_type": "code",
      "metadata": {
        "id": "HjxmWlM2pArf"
      },
      "source": [
        "#Exibir os dados de todas as equipes com Pandas\n",
        "print(\"EQUIPES:\") \n",
        "SQL_Query = pd.read_sql_query(\n",
        "    \"\"\"SELECT * \n",
        "       FROM EQUIPE;\"\"\", db)\n",
        "df = pd.DataFrame(SQL_Query, columns=['Codigo','Nome'])\n",
        "print(df)\n",
        "\n",
        "#Exibir os dados dos jogadores da equipe 'America F. C.'\n",
        "print(\"\\nJOGADORES do America F. C.:\") \n",
        "SQL_Query = pd.read_sql_query(\n",
        "    \"\"\"SELECT J.CPF, J.Nome, J.DataNascimento, J.Salario\n",
        "       FROM   EQUIPE AS E, JOGADOR AS J\n",
        "       WHERE   J.ECodigo = E.Codigo AND E.Nome = \"America F. C.\";\"\"\", db);\n",
        "df = pd.DataFrame(SQL_Query)\n",
        "print(df)"
      ],
      "execution_count": null,
      "outputs": []
    },
    {
      "cell_type": "markdown",
      "metadata": {
        "id": "SygLeA74dEhN"
      },
      "source": [
        "# Operações com Pandas DataFrame"
      ]
    },
    {
      "cell_type": "code",
      "metadata": {
        "id": "FupKnTlxdIIL"
      },
      "source": [
        "#Imprime o nome do jogador da posição 0 (via nome da coluna)\n",
        "print(df.loc[0,'Nome'])\n",
        "\n",
        "#Imprime o nome do jogador da posição 0 (via índice da coluna)\n",
        "print(df.iloc[0,1])\n",
        "\n",
        "#Alterando o salário do jogador da posição 0 para 100.000\n",
        "df.loc[0,'Salario'] = 100000.00\n",
        "\n",
        "#Converte DataFrame para list (matriz)\n",
        "matriz = df.values.tolist()\n",
        "print(matriz)\n",
        "\n",
        "#Converte list (matriz) para DataFrame\n",
        "df = pd.DataFrame(matriz,columns=['CPF', 'Nome', 'DataNascimento', 'Salario'])\n",
        "print(df)\n",
        "\n",
        "#Cria arquivo .csv a partir de um DataFrame\n",
        "df.to_csv(r'Jogadores_America.csv', index = False)"
      ],
      "execution_count": null,
      "outputs": []
    },
    {
      "cell_type": "markdown",
      "metadata": {
        "id": "UNjQixT5pNKp"
      },
      "source": [
        "# Consultas SQL dos exercícios"
      ]
    },
    {
      "cell_type": "markdown",
      "metadata": {
        "id": "k9NNMjvApFT3"
      },
      "source": [
        "1. Adicionar a equipe 'Porto F. C.', de código 1053 à tabela EQUIPE com 0 vitórias, 0 derrotas e 0 empates."
      ]
    },
    {
      "cell_type": "code",
      "metadata": {
        "id": "ad3dw1ULpDcP"
      },
      "source": [
        "cursor.execute(\n",
        "    \"\"\"DELETE FROM EQUIPE\n",
        "       WHERE Codigo=1053;\"\"\");\n",
        "\n",
        "cursor.execute(\n",
        "    \"\"\"INSERT INTO EQUIPE VALUES\n",
        "       (\"Porto F. C.\", 1053, 0, 0, 0);\"\"\");"
      ],
      "execution_count": null,
      "outputs": []
    },
    {
      "cell_type": "markdown",
      "metadata": {
        "id": "vyRQwDelnlSz"
      },
      "source": [
        "2. Adicionar a posição 'Lateral direito' ao jogador de CPF '1098068753'."
      ]
    },
    {
      "cell_type": "code",
      "metadata": {
        "id": "HBmXkgfOnm0K"
      },
      "source": [
        "# A fazer"
      ],
      "execution_count": null,
      "outputs": []
    },
    {
      "cell_type": "markdown",
      "metadata": {
        "id": "sJEG_cFwm7z6"
      },
      "source": [
        "3. Exibir o código, o nome e o número de vitórias dos times com mais que 5 vitórias."
      ]
    },
    {
      "cell_type": "code",
      "metadata": {
        "id": "yvEp5qRZnCmC"
      },
      "source": [
        "# A fazer"
      ],
      "execution_count": null,
      "outputs": []
    },
    {
      "cell_type": "markdown",
      "metadata": {
        "id": "-6SSy1korC3l"
      },
      "source": [
        "4. Recuperar os jogadores nascidos na década de 90."
      ]
    },
    {
      "cell_type": "code",
      "metadata": {
        "id": "Ww4OKyt2rGN2"
      },
      "source": [
        "# A fazer"
      ],
      "execution_count": null,
      "outputs": []
    },
    {
      "cell_type": "markdown",
      "metadata": {
        "id": "OE63_hayreuZ"
      },
      "source": [
        "5. Recuperar o nome dos jogadores que atuam pela equipe 'Real F. C.'"
      ]
    },
    {
      "cell_type": "code",
      "metadata": {
        "id": "l1V5nTSJri31"
      },
      "source": [
        "# A fazer"
      ],
      "execution_count": null,
      "outputs": []
    },
    {
      "cell_type": "markdown",
      "metadata": {
        "id": "cjb0OtEXsD0G"
      },
      "source": [
        "6. Recuperar o nome e o CPF de todos os jogadores que atuam na posição 'Goleiro'."
      ]
    },
    {
      "cell_type": "code",
      "metadata": {
        "id": "Sjw1XUNFsIin"
      },
      "source": [
        "# A fazer"
      ],
      "execution_count": null,
      "outputs": []
    },
    {
      "cell_type": "markdown",
      "metadata": {
        "id": "Iul7WJuTsUhx"
      },
      "source": [
        "7. Recuperar os dados do jogador que mais fez gols no campeonato (artilheiro)."
      ]
    },
    {
      "cell_type": "code",
      "metadata": {
        "id": "8bzH1YFNsYX4"
      },
      "source": [
        "# A fazer"
      ],
      "execution_count": null,
      "outputs": []
    },
    {
      "cell_type": "markdown",
      "metadata": {
        "id": "9C8xtCXJsu1p"
      },
      "source": [
        "8. Recuperar os times ordenados decrescentemente pelo número de vitórias, e pelo número de empates caso o número de vitórias seja igual."
      ]
    },
    {
      "cell_type": "code",
      "metadata": {
        "id": "Pt6iqERSs2Zs"
      },
      "source": [
        "# A fazer"
      ],
      "execution_count": null,
      "outputs": []
    },
    {
      "cell_type": "markdown",
      "metadata": {
        "id": "2gsKWFs1vec2"
      },
      "source": [
        "9. Recuperar o número de gols marcados e o número de gols sofridos pela equipe 'Sport F. C.'."
      ]
    },
    {
      "cell_type": "code",
      "metadata": {
        "id": "AlfIkrVAvhDE"
      },
      "source": [
        "# A fazer"
      ],
      "execution_count": null,
      "outputs": []
    },
    {
      "cell_type": "markdown",
      "metadata": {
        "id": "wA_20j9XzQqR"
      },
      "source": [
        "10. Recuperar a equipe que tem o maior número de derrotas."
      ]
    },
    {
      "cell_type": "code",
      "metadata": {
        "id": "zkQf3_N-zQQ2"
      },
      "source": [
        "# A fazer"
      ],
      "execution_count": null,
      "outputs": []
    },
    {
      "cell_type": "markdown",
      "metadata": {
        "id": "Io12YrA11J8l"
      },
      "source": [
        "11. Recuperar a média dos salários dos jogadores da equipe 'River F. C.'"
      ]
    },
    {
      "cell_type": "code",
      "metadata": {
        "id": "Ex3PDg8I1LaW"
      },
      "source": [
        "# A fazer"
      ],
      "execution_count": null,
      "outputs": []
    },
    {
      "cell_type": "markdown",
      "metadata": {
        "id": "0muqHYJL13F5"
      },
      "source": [
        "12. Recuperar o nome dos jogadores que atuaram pela equipe 'America F. C.' na rodada número 3."
      ]
    },
    {
      "cell_type": "code",
      "metadata": {
        "id": "89j8-Hhc15t0"
      },
      "source": [
        "# A fazer"
      ],
      "execution_count": null,
      "outputs": []
    },
    {
      "cell_type": "markdown",
      "metadata": {
        "id": "e0bTYunr3Nsr"
      },
      "source": [
        "13. Recuperar o nome das equipes que venceram na rodada 7."
      ]
    },
    {
      "cell_type": "code",
      "metadata": {
        "id": "3qSWMymw3Qf6"
      },
      "source": [
        "# A fazer"
      ],
      "execution_count": null,
      "outputs": []
    },
    {
      "cell_type": "markdown",
      "metadata": {
        "id": "NAddA-DN3ukC"
      },
      "source": [
        "14. Recuperar as equipes ordenadas decrescentemente pela média do público dos jogos em que foi mandante."
      ]
    },
    {
      "cell_type": "code",
      "metadata": {
        "id": "W6BuSuFc3yy0"
      },
      "source": [
        "# A fazer"
      ],
      "execution_count": null,
      "outputs": []
    },
    {
      "cell_type": "markdown",
      "metadata": {
        "id": "aou18m0Gmzor"
      },
      "source": [
        "15. Recuperar o número de cartões obtidos pela equipe 'Lake Trinity' durante o campeonato."
      ]
    },
    {
      "cell_type": "code",
      "metadata": {
        "id": "y5TC-BFnm3jM"
      },
      "source": [
        "# A fazer"
      ],
      "execution_count": null,
      "outputs": []
    },
    {
      "cell_type": "markdown",
      "metadata": {
        "id": "9GyYl6aW_ss9"
      },
      "source": [
        "16. Recuperar o número de cartões obtidos pela equipe 'Real F. C.' durante o campeonato."
      ]
    },
    {
      "cell_type": "code",
      "metadata": {
        "id": "Zio5j24k_wZv"
      },
      "source": [
        "# A fazer"
      ],
      "execution_count": null,
      "outputs": []
    },
    {
      "cell_type": "markdown",
      "metadata": {
        "id": "UR_i_omMAm8I"
      },
      "source": [
        "17. Recuperar as equipes ordenadas decrescentemente pela média salarial de seus jogadores."
      ]
    },
    {
      "cell_type": "code",
      "metadata": {
        "id": "ZeeCWIHMUURW"
      },
      "source": [
        "# A fazer"
      ],
      "execution_count": null,
      "outputs": []
    },
    {
      "cell_type": "markdown",
      "metadata": {
        "id": "Lya1nbRpU1xx"
      },
      "source": [
        "18. Atualizar o número de vitórias da equipe 'Porto F. C.' para 1."
      ]
    },
    {
      "cell_type": "code",
      "metadata": {
        "id": "dWMjtcGEU7-w"
      },
      "source": [
        "# A fazer"
      ],
      "execution_count": null,
      "outputs": []
    },
    {
      "cell_type": "markdown",
      "metadata": {
        "id": "Pvdqi6MbVR_3"
      },
      "source": [
        "19. Atualizar o número de gols marcados pelo jogador de CPF '1493017907' na partida código '181' para 2."
      ]
    },
    {
      "cell_type": "code",
      "metadata": {
        "id": "H4eaiMiIVVW5"
      },
      "source": [
        "# A fazer"
      ],
      "execution_count": null,
      "outputs": []
    },
    {
      "cell_type": "markdown",
      "metadata": {
        "id": "2TLBdmUxXnjv"
      },
      "source": [
        "# Manipulação de Arquivos .csv"
      ]
    },
    {
      "cell_type": "markdown",
      "metadata": {
        "id": "2F6Mh1WEedKO"
      },
      "source": [
        "1. Leitura de dados .csv"
      ]
    },
    {
      "cell_type": "code",
      "metadata": {
        "id": "PL5Vn3JzXrqd"
      },
      "source": [
        "#Lê dados de um arquivo .csv local\n",
        "df = pd.read_csv(\"Jogadores_America.csv\")\n",
        "\n",
        "#Lê dados de um arquivo .csv da Web\n",
        "df = pd.read_csv(\"http://professor.ufop.br/sites/default/files/george/files/jogadores_america.csv\")\n",
        "print(\"Jogadores:\")\n",
        "print(df)\n",
        "\n"
      ],
      "execution_count": null,
      "outputs": []
    },
    {
      "cell_type": "markdown",
      "metadata": {
        "id": "pv2Zwdk1eg4r"
      },
      "source": [
        "2. Adição de coluna a um DataFrame"
      ]
    },
    {
      "cell_type": "code",
      "metadata": {
        "id": "YS32IVi7emm3"
      },
      "source": [
        "#Adiciona a coluna Status ao DataFrame df\n",
        "status = [\"Disponivel\",\n",
        "          \"Lesionado\",\n",
        "          \"Disponivel\",\n",
        "          \"Disponivel\",\n",
        "          \"Suspenso\",\n",
        "          \"Disponivel\",\n",
        "          \"Disponivel\",\n",
        "          \"Disponivel\",\n",
        "          \"Disponivel\",\n",
        "          \"Lesionado\",\n",
        "          \"Disponivel\",\n",
        "          \"Disponivel\",\n",
        "          \"Suspenso\",\n",
        "          \"Disponivel\",\n",
        "          \"Disponivel\",\n",
        "          \"Disponivel\"]\n",
        "df[\"Status\"] = status\n",
        "print(\"\\nJogadores com Status:\")\n",
        "print(df)"
      ],
      "execution_count": null,
      "outputs": []
    },
    {
      "cell_type": "markdown",
      "metadata": {
        "id": "ga6OCG3teowh"
      },
      "source": [
        "3. Imprime apenas a coluna \"Salario\" do DataFrame"
      ]
    },
    {
      "cell_type": "code",
      "metadata": {
        "id": "ryfn0MP7etqH"
      },
      "source": [
        "print(df[\"Salario\"])"
      ],
      "execution_count": null,
      "outputs": []
    },
    {
      "cell_type": "markdown",
      "metadata": {
        "id": "pQPeYoave_A2"
      },
      "source": [
        "4. Escreve os dados alterados em Jogadores_America_Update.csv"
      ]
    },
    {
      "cell_type": "code",
      "metadata": {
        "id": "TaqELOMRfMM5"
      },
      "source": [
        "df.to_csv(r'Jogadores_America_Update.csv', index = False)"
      ],
      "execution_count": null,
      "outputs": []
    },
    {
      "cell_type": "markdown",
      "metadata": {
        "id": "aEE-dYA5s29N"
      },
      "source": [
        "X. Exiba, para cada equipe, o nome de seu jogador mais velho."
      ]
    },
    {
      "cell_type": "code",
      "metadata": {
        "id": "J2DHxpZos8Gm"
      },
      "source": [
        "# A fazer (extra!)"
      ],
      "execution_count": null,
      "outputs": []
    }
  ]
}